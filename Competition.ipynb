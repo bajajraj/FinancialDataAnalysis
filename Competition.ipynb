{
  "nbformat": 4,
  "nbformat_minor": 0,
  "metadata": {
    "colab": {
      "provenance": [],
      "mount_file_id": "1OCV1K0L-85-KGCjnMZsoAEYWu3KNgw6h",
      "authorship_tag": "ABX9TyMLvGjvp9DsfJsv49298Tpo",
      "include_colab_link": true
    },
    "kernelspec": {
      "name": "python3",
      "display_name": "Python 3"
    },
    "language_info": {
      "name": "python"
    }
  },
  "cells": [
    {
      "cell_type": "markdown",
      "metadata": {
        "id": "view-in-github",
        "colab_type": "text"
      },
      "source": [
        "<a href=\"https://colab.research.google.com/github/bajajraj/FinancialDataAnalysis/blob/main/Competition.ipynb\" target=\"_parent\"><img src=\"https://colab.research.google.com/assets/colab-badge.svg\" alt=\"Open In Colab\"/></a>"
      ]
    },
    {
      "cell_type": "code",
      "execution_count": 20,
      "metadata": {
        "id": "N9MXZ1ZDgnhl"
      },
      "outputs": [],
      "source": [
        "# importing modules\n",
        "import numpy as np\n",
        "import pandas as pd\n",
        "import tensorflow as tf\n",
        "import matplotlib.pyplot as plt\n",
        "from sklearn.linear_model import LogisticRegression\n",
        "from sklearn.pipeline import Pipeline\n",
        "from sklearn.metrics import classification_report, matthews_corrcoef\n",
        "from sklearn.metrics import accuracy_score\n",
        "from sklearn.model_selection import train_test_split\n",
        "from sklearn.preprocessing import MinMaxScaler\n",
        "from imblearn.over_sampling import SMOTE"
      ]
    },
    {
      "cell_type": "code",
      "source": [
        "# Store x_train in Dataframe\n",
        "x_train = pd.read_csv('x_train.csv')\n",
        "print(\"The shape of the x_train is\", x_train.shape)"
      ],
      "metadata": {
        "colab": {
          "base_uri": "https://localhost:8080/"
        },
        "id": "CjOK4wCXg0oA",
        "outputId": "0161adfa-6884-4d8e-fb13-f31dc0281b5b"
      },
      "execution_count": 2,
      "outputs": [
        {
          "output_type": "stream",
          "name": "stdout",
          "text": [
            "The shape of the x_train is (200000, 27)\n"
          ]
        }
      ]
    },
    {
      "cell_type": "code",
      "source": [
        "# Store the y_train in Datframe\n",
        "y_train = pd.read_csv('y_train.csv')\n",
        "print(\"The shape of the y_train is\", y_train.shape)"
      ],
      "metadata": {
        "colab": {
          "base_uri": "https://localhost:8080/"
        },
        "id": "e5l1OjqWhODq",
        "outputId": "a340b1a7-c495-4a5f-e4f5-1d0f787243d2"
      },
      "execution_count": 3,
      "outputs": [
        {
          "output_type": "stream",
          "name": "stdout",
          "text": [
            "The shape of the y_train is (200000, 1)\n"
          ]
        }
      ]
    },
    {
      "cell_type": "code",
      "source": [
        "# Store the x_test in DataFrame\n",
        "x_test = pd.read_csv('x_test.csv')\n",
        "print('The shape of the x_test is', x_test.shape)"
      ],
      "metadata": {
        "colab": {
          "base_uri": "https://localhost:8080/"
        },
        "id": "ayccPkURhRBW",
        "outputId": "b62326c8-16a9-4cc3-a367-18a6c3ac1123"
      },
      "execution_count": 4,
      "outputs": [
        {
          "output_type": "stream",
          "name": "stdout",
          "text": [
            "The shape of the x_test is (10000, 28)\n"
          ]
        }
      ]
    },
    {
      "cell_type": "code",
      "source": [
        "# Doing some data preprocessing. First, converting the data for normalization using Min-Max Scaling between the range of 0\n",
        "# to 1\n",
        "\n",
        "# Create MinMaxScaler object\n",
        "scaler = MinMaxScaler()\n",
        "# apply Min-Max scaling to all columns\n",
        "x_normalized_data = pd.DataFrame(scaler.fit_transform(x_train), columns=x_train.columns)\n",
        "x_normalized_data"
      ],
      "metadata": {
        "colab": {
          "base_uri": "https://localhost:8080/",
          "height": 488
        },
        "id": "pqEjviVhhTJ8",
        "outputId": "9af70698-c056-43a0-90f7-abc8465fd88d"
      },
      "execution_count": 5,
      "outputs": [
        {
          "output_type": "execute_result",
          "data": {
            "text/plain": [
              "              v1        v2        v3        v4        v5        v6        v7  \\\n",
              "0       0.013166  0.768603  0.266142  0.535434  0.522835  0.541423  0.783392   \n",
              "1       0.000228  0.801162  0.242514  0.555572  0.538073  0.549635  0.787447   \n",
              "2       0.031874  0.817670  0.400953  0.527333  0.587932  0.534521  0.793047   \n",
              "3       0.006867  0.818750  0.186868  0.541694  0.535038  0.542487  0.784022   \n",
              "4       0.002747  0.817387  0.261164  0.552048  0.543797  0.550565  0.785926   \n",
              "...          ...       ...       ...       ...       ...       ...       ...   \n",
              "199995  0.001567  0.786132  0.295686  0.568267  0.629324  0.531030  0.803605   \n",
              "199996  0.007326  0.798893  0.301278  0.542977  0.549272  0.538444  0.786754   \n",
              "199997  0.001272  0.793069  0.157386  0.553693  0.522448  0.551939  0.782272   \n",
              "199998  0.000544  0.763356  0.170194  0.532351  0.521483  0.534035  0.797997   \n",
              "199999  0.001475  0.797104  0.193456  0.537817  0.515131  0.545389  0.794162   \n",
              "\n",
              "              v8        v9       v10  ...       v18       v19       v20  \\\n",
              "0       0.501795  0.502335  0.268482  ...  0.544884  0.395308  0.561678   \n",
              "1       0.457165  0.497903  0.234985  ...  0.558398  0.390898  0.556413   \n",
              "2       0.490613  0.509299  0.335463  ...  0.471219  0.406263  0.570319   \n",
              "3       0.441919  0.521529  0.395007  ...  0.536447  0.381165  0.566132   \n",
              "4       0.441782  0.501923  0.251173  ...  0.650606  0.391680  0.556455   \n",
              "...          ...       ...       ...  ...       ...       ...       ...   \n",
              "199995  0.446723  0.515637  0.236953  ...  0.539218  0.385381  0.561330   \n",
              "199996  0.474722  0.505937  0.253219  ...  0.501090  0.393688  0.564249   \n",
              "199997  0.405393  0.507627  0.253134  ...  0.592491  0.393279  0.569585   \n",
              "199998  0.472407  0.488551  0.327849  ...  0.732113  0.383653  0.564374   \n",
              "199999  0.438626  0.493937  0.381195  ...  0.533268  0.389630  0.560591   \n",
              "\n",
              "             v21       v22       v23       v24       v25       v26       v27  \n",
              "0       0.491362  0.704808  0.411224  0.543566  0.395226  0.648976  0.257249  \n",
              "1       0.470343  0.700732  0.265424  0.570273  0.475939  0.657261  0.258859  \n",
              "2       0.541971  0.692552  0.386553  0.581683  0.485832  0.650151  0.259935  \n",
              "3       0.586573  0.715858  0.419549  0.571692  0.405871  0.651065  0.248055  \n",
              "4       0.465054  0.700437  0.299797  0.572812  0.508024  0.648075  0.258368  \n",
              "...          ...       ...       ...       ...       ...       ...       ...  \n",
              "199995  0.500019  0.703333  0.557150  0.578470  0.423333  0.625833  0.249951  \n",
              "199996  0.524623  0.698836  0.305282  0.598338  0.396082  0.651660  0.258256  \n",
              "199997  0.573206  0.695802  0.522766  0.601414  0.453475  0.651952  0.259701  \n",
              "199998  0.503341  0.702928  0.365480  0.550635  0.409866  0.607199  0.249779  \n",
              "199999  0.495147  0.703649  0.496610  0.563382  0.556007  0.653195  0.259131  \n",
              "\n",
              "[200000 rows x 27 columns]"
            ],
            "text/html": [
              "\n",
              "  <div id=\"df-006c732b-02cd-47d2-8d08-95291a70e265\">\n",
              "    <div class=\"colab-df-container\">\n",
              "      <div>\n",
              "<style scoped>\n",
              "    .dataframe tbody tr th:only-of-type {\n",
              "        vertical-align: middle;\n",
              "    }\n",
              "\n",
              "    .dataframe tbody tr th {\n",
              "        vertical-align: top;\n",
              "    }\n",
              "\n",
              "    .dataframe thead th {\n",
              "        text-align: right;\n",
              "    }\n",
              "</style>\n",
              "<table border=\"1\" class=\"dataframe\">\n",
              "  <thead>\n",
              "    <tr style=\"text-align: right;\">\n",
              "      <th></th>\n",
              "      <th>v1</th>\n",
              "      <th>v2</th>\n",
              "      <th>v3</th>\n",
              "      <th>v4</th>\n",
              "      <th>v5</th>\n",
              "      <th>v6</th>\n",
              "      <th>v7</th>\n",
              "      <th>v8</th>\n",
              "      <th>v9</th>\n",
              "      <th>v10</th>\n",
              "      <th>...</th>\n",
              "      <th>v18</th>\n",
              "      <th>v19</th>\n",
              "      <th>v20</th>\n",
              "      <th>v21</th>\n",
              "      <th>v22</th>\n",
              "      <th>v23</th>\n",
              "      <th>v24</th>\n",
              "      <th>v25</th>\n",
              "      <th>v26</th>\n",
              "      <th>v27</th>\n",
              "    </tr>\n",
              "  </thead>\n",
              "  <tbody>\n",
              "    <tr>\n",
              "      <th>0</th>\n",
              "      <td>0.013166</td>\n",
              "      <td>0.768603</td>\n",
              "      <td>0.266142</td>\n",
              "      <td>0.535434</td>\n",
              "      <td>0.522835</td>\n",
              "      <td>0.541423</td>\n",
              "      <td>0.783392</td>\n",
              "      <td>0.501795</td>\n",
              "      <td>0.502335</td>\n",
              "      <td>0.268482</td>\n",
              "      <td>...</td>\n",
              "      <td>0.544884</td>\n",
              "      <td>0.395308</td>\n",
              "      <td>0.561678</td>\n",
              "      <td>0.491362</td>\n",
              "      <td>0.704808</td>\n",
              "      <td>0.411224</td>\n",
              "      <td>0.543566</td>\n",
              "      <td>0.395226</td>\n",
              "      <td>0.648976</td>\n",
              "      <td>0.257249</td>\n",
              "    </tr>\n",
              "    <tr>\n",
              "      <th>1</th>\n",
              "      <td>0.000228</td>\n",
              "      <td>0.801162</td>\n",
              "      <td>0.242514</td>\n",
              "      <td>0.555572</td>\n",
              "      <td>0.538073</td>\n",
              "      <td>0.549635</td>\n",
              "      <td>0.787447</td>\n",
              "      <td>0.457165</td>\n",
              "      <td>0.497903</td>\n",
              "      <td>0.234985</td>\n",
              "      <td>...</td>\n",
              "      <td>0.558398</td>\n",
              "      <td>0.390898</td>\n",
              "      <td>0.556413</td>\n",
              "      <td>0.470343</td>\n",
              "      <td>0.700732</td>\n",
              "      <td>0.265424</td>\n",
              "      <td>0.570273</td>\n",
              "      <td>0.475939</td>\n",
              "      <td>0.657261</td>\n",
              "      <td>0.258859</td>\n",
              "    </tr>\n",
              "    <tr>\n",
              "      <th>2</th>\n",
              "      <td>0.031874</td>\n",
              "      <td>0.817670</td>\n",
              "      <td>0.400953</td>\n",
              "      <td>0.527333</td>\n",
              "      <td>0.587932</td>\n",
              "      <td>0.534521</td>\n",
              "      <td>0.793047</td>\n",
              "      <td>0.490613</td>\n",
              "      <td>0.509299</td>\n",
              "      <td>0.335463</td>\n",
              "      <td>...</td>\n",
              "      <td>0.471219</td>\n",
              "      <td>0.406263</td>\n",
              "      <td>0.570319</td>\n",
              "      <td>0.541971</td>\n",
              "      <td>0.692552</td>\n",
              "      <td>0.386553</td>\n",
              "      <td>0.581683</td>\n",
              "      <td>0.485832</td>\n",
              "      <td>0.650151</td>\n",
              "      <td>0.259935</td>\n",
              "    </tr>\n",
              "    <tr>\n",
              "      <th>3</th>\n",
              "      <td>0.006867</td>\n",
              "      <td>0.818750</td>\n",
              "      <td>0.186868</td>\n",
              "      <td>0.541694</td>\n",
              "      <td>0.535038</td>\n",
              "      <td>0.542487</td>\n",
              "      <td>0.784022</td>\n",
              "      <td>0.441919</td>\n",
              "      <td>0.521529</td>\n",
              "      <td>0.395007</td>\n",
              "      <td>...</td>\n",
              "      <td>0.536447</td>\n",
              "      <td>0.381165</td>\n",
              "      <td>0.566132</td>\n",
              "      <td>0.586573</td>\n",
              "      <td>0.715858</td>\n",
              "      <td>0.419549</td>\n",
              "      <td>0.571692</td>\n",
              "      <td>0.405871</td>\n",
              "      <td>0.651065</td>\n",
              "      <td>0.248055</td>\n",
              "    </tr>\n",
              "    <tr>\n",
              "      <th>4</th>\n",
              "      <td>0.002747</td>\n",
              "      <td>0.817387</td>\n",
              "      <td>0.261164</td>\n",
              "      <td>0.552048</td>\n",
              "      <td>0.543797</td>\n",
              "      <td>0.550565</td>\n",
              "      <td>0.785926</td>\n",
              "      <td>0.441782</td>\n",
              "      <td>0.501923</td>\n",
              "      <td>0.251173</td>\n",
              "      <td>...</td>\n",
              "      <td>0.650606</td>\n",
              "      <td>0.391680</td>\n",
              "      <td>0.556455</td>\n",
              "      <td>0.465054</td>\n",
              "      <td>0.700437</td>\n",
              "      <td>0.299797</td>\n",
              "      <td>0.572812</td>\n",
              "      <td>0.508024</td>\n",
              "      <td>0.648075</td>\n",
              "      <td>0.258368</td>\n",
              "    </tr>\n",
              "    <tr>\n",
              "      <th>...</th>\n",
              "      <td>...</td>\n",
              "      <td>...</td>\n",
              "      <td>...</td>\n",
              "      <td>...</td>\n",
              "      <td>...</td>\n",
              "      <td>...</td>\n",
              "      <td>...</td>\n",
              "      <td>...</td>\n",
              "      <td>...</td>\n",
              "      <td>...</td>\n",
              "      <td>...</td>\n",
              "      <td>...</td>\n",
              "      <td>...</td>\n",
              "      <td>...</td>\n",
              "      <td>...</td>\n",
              "      <td>...</td>\n",
              "      <td>...</td>\n",
              "      <td>...</td>\n",
              "      <td>...</td>\n",
              "      <td>...</td>\n",
              "      <td>...</td>\n",
              "    </tr>\n",
              "    <tr>\n",
              "      <th>199995</th>\n",
              "      <td>0.001567</td>\n",
              "      <td>0.786132</td>\n",
              "      <td>0.295686</td>\n",
              "      <td>0.568267</td>\n",
              "      <td>0.629324</td>\n",
              "      <td>0.531030</td>\n",
              "      <td>0.803605</td>\n",
              "      <td>0.446723</td>\n",
              "      <td>0.515637</td>\n",
              "      <td>0.236953</td>\n",
              "      <td>...</td>\n",
              "      <td>0.539218</td>\n",
              "      <td>0.385381</td>\n",
              "      <td>0.561330</td>\n",
              "      <td>0.500019</td>\n",
              "      <td>0.703333</td>\n",
              "      <td>0.557150</td>\n",
              "      <td>0.578470</td>\n",
              "      <td>0.423333</td>\n",
              "      <td>0.625833</td>\n",
              "      <td>0.249951</td>\n",
              "    </tr>\n",
              "    <tr>\n",
              "      <th>199996</th>\n",
              "      <td>0.007326</td>\n",
              "      <td>0.798893</td>\n",
              "      <td>0.301278</td>\n",
              "      <td>0.542977</td>\n",
              "      <td>0.549272</td>\n",
              "      <td>0.538444</td>\n",
              "      <td>0.786754</td>\n",
              "      <td>0.474722</td>\n",
              "      <td>0.505937</td>\n",
              "      <td>0.253219</td>\n",
              "      <td>...</td>\n",
              "      <td>0.501090</td>\n",
              "      <td>0.393688</td>\n",
              "      <td>0.564249</td>\n",
              "      <td>0.524623</td>\n",
              "      <td>0.698836</td>\n",
              "      <td>0.305282</td>\n",
              "      <td>0.598338</td>\n",
              "      <td>0.396082</td>\n",
              "      <td>0.651660</td>\n",
              "      <td>0.258256</td>\n",
              "    </tr>\n",
              "    <tr>\n",
              "      <th>199997</th>\n",
              "      <td>0.001272</td>\n",
              "      <td>0.793069</td>\n",
              "      <td>0.157386</td>\n",
              "      <td>0.553693</td>\n",
              "      <td>0.522448</td>\n",
              "      <td>0.551939</td>\n",
              "      <td>0.782272</td>\n",
              "      <td>0.405393</td>\n",
              "      <td>0.507627</td>\n",
              "      <td>0.253134</td>\n",
              "      <td>...</td>\n",
              "      <td>0.592491</td>\n",
              "      <td>0.393279</td>\n",
              "      <td>0.569585</td>\n",
              "      <td>0.573206</td>\n",
              "      <td>0.695802</td>\n",
              "      <td>0.522766</td>\n",
              "      <td>0.601414</td>\n",
              "      <td>0.453475</td>\n",
              "      <td>0.651952</td>\n",
              "      <td>0.259701</td>\n",
              "    </tr>\n",
              "    <tr>\n",
              "      <th>199998</th>\n",
              "      <td>0.000544</td>\n",
              "      <td>0.763356</td>\n",
              "      <td>0.170194</td>\n",
              "      <td>0.532351</td>\n",
              "      <td>0.521483</td>\n",
              "      <td>0.534035</td>\n",
              "      <td>0.797997</td>\n",
              "      <td>0.472407</td>\n",
              "      <td>0.488551</td>\n",
              "      <td>0.327849</td>\n",
              "      <td>...</td>\n",
              "      <td>0.732113</td>\n",
              "      <td>0.383653</td>\n",
              "      <td>0.564374</td>\n",
              "      <td>0.503341</td>\n",
              "      <td>0.702928</td>\n",
              "      <td>0.365480</td>\n",
              "      <td>0.550635</td>\n",
              "      <td>0.409866</td>\n",
              "      <td>0.607199</td>\n",
              "      <td>0.249779</td>\n",
              "    </tr>\n",
              "    <tr>\n",
              "      <th>199999</th>\n",
              "      <td>0.001475</td>\n",
              "      <td>0.797104</td>\n",
              "      <td>0.193456</td>\n",
              "      <td>0.537817</td>\n",
              "      <td>0.515131</td>\n",
              "      <td>0.545389</td>\n",
              "      <td>0.794162</td>\n",
              "      <td>0.438626</td>\n",
              "      <td>0.493937</td>\n",
              "      <td>0.381195</td>\n",
              "      <td>...</td>\n",
              "      <td>0.533268</td>\n",
              "      <td>0.389630</td>\n",
              "      <td>0.560591</td>\n",
              "      <td>0.495147</td>\n",
              "      <td>0.703649</td>\n",
              "      <td>0.496610</td>\n",
              "      <td>0.563382</td>\n",
              "      <td>0.556007</td>\n",
              "      <td>0.653195</td>\n",
              "      <td>0.259131</td>\n",
              "    </tr>\n",
              "  </tbody>\n",
              "</table>\n",
              "<p>200000 rows × 27 columns</p>\n",
              "</div>\n",
              "      <button class=\"colab-df-convert\" onclick=\"convertToInteractive('df-006c732b-02cd-47d2-8d08-95291a70e265')\"\n",
              "              title=\"Convert this dataframe to an interactive table.\"\n",
              "              style=\"display:none;\">\n",
              "        \n",
              "  <svg xmlns=\"http://www.w3.org/2000/svg\" height=\"24px\"viewBox=\"0 0 24 24\"\n",
              "       width=\"24px\">\n",
              "    <path d=\"M0 0h24v24H0V0z\" fill=\"none\"/>\n",
              "    <path d=\"M18.56 5.44l.94 2.06.94-2.06 2.06-.94-2.06-.94-.94-2.06-.94 2.06-2.06.94zm-11 1L8.5 8.5l.94-2.06 2.06-.94-2.06-.94L8.5 2.5l-.94 2.06-2.06.94zm10 10l.94 2.06.94-2.06 2.06-.94-2.06-.94-.94-2.06-.94 2.06-2.06.94z\"/><path d=\"M17.41 7.96l-1.37-1.37c-.4-.4-.92-.59-1.43-.59-.52 0-1.04.2-1.43.59L10.3 9.45l-7.72 7.72c-.78.78-.78 2.05 0 2.83L4 21.41c.39.39.9.59 1.41.59.51 0 1.02-.2 1.41-.59l7.78-7.78 2.81-2.81c.8-.78.8-2.07 0-2.86zM5.41 20L4 18.59l7.72-7.72 1.47 1.35L5.41 20z\"/>\n",
              "  </svg>\n",
              "      </button>\n",
              "      \n",
              "  <style>\n",
              "    .colab-df-container {\n",
              "      display:flex;\n",
              "      flex-wrap:wrap;\n",
              "      gap: 12px;\n",
              "    }\n",
              "\n",
              "    .colab-df-convert {\n",
              "      background-color: #E8F0FE;\n",
              "      border: none;\n",
              "      border-radius: 50%;\n",
              "      cursor: pointer;\n",
              "      display: none;\n",
              "      fill: #1967D2;\n",
              "      height: 32px;\n",
              "      padding: 0 0 0 0;\n",
              "      width: 32px;\n",
              "    }\n",
              "\n",
              "    .colab-df-convert:hover {\n",
              "      background-color: #E2EBFA;\n",
              "      box-shadow: 0px 1px 2px rgba(60, 64, 67, 0.3), 0px 1px 3px 1px rgba(60, 64, 67, 0.15);\n",
              "      fill: #174EA6;\n",
              "    }\n",
              "\n",
              "    [theme=dark] .colab-df-convert {\n",
              "      background-color: #3B4455;\n",
              "      fill: #D2E3FC;\n",
              "    }\n",
              "\n",
              "    [theme=dark] .colab-df-convert:hover {\n",
              "      background-color: #434B5C;\n",
              "      box-shadow: 0px 1px 3px 1px rgba(0, 0, 0, 0.15);\n",
              "      filter: drop-shadow(0px 1px 2px rgba(0, 0, 0, 0.3));\n",
              "      fill: #FFFFFF;\n",
              "    }\n",
              "  </style>\n",
              "\n",
              "      <script>\n",
              "        const buttonEl =\n",
              "          document.querySelector('#df-006c732b-02cd-47d2-8d08-95291a70e265 button.colab-df-convert');\n",
              "        buttonEl.style.display =\n",
              "          google.colab.kernel.accessAllowed ? 'block' : 'none';\n",
              "\n",
              "        async function convertToInteractive(key) {\n",
              "          const element = document.querySelector('#df-006c732b-02cd-47d2-8d08-95291a70e265');\n",
              "          const dataTable =\n",
              "            await google.colab.kernel.invokeFunction('convertToInteractive',\n",
              "                                                     [key], {});\n",
              "          if (!dataTable) return;\n",
              "\n",
              "          const docLinkHtml = 'Like what you see? Visit the ' +\n",
              "            '<a target=\"_blank\" href=https://colab.research.google.com/notebooks/data_table.ipynb>data table notebook</a>'\n",
              "            + ' to learn more about interactive tables.';\n",
              "          element.innerHTML = '';\n",
              "          dataTable['output_type'] = 'display_data';\n",
              "          await google.colab.output.renderOutput(dataTable, element);\n",
              "          const docLink = document.createElement('div');\n",
              "          docLink.innerHTML = docLinkHtml;\n",
              "          element.appendChild(docLink);\n",
              "        }\n",
              "      </script>\n",
              "    </div>\n",
              "  </div>\n",
              "  "
            ]
          },
          "metadata": {},
          "execution_count": 5
        }
      ]
    },
    {
      "cell_type": "code",
      "source": [
        "# Creating some plot to see the data seperation\n",
        "# separate 0 and 1 values into two Series\n",
        "zeros = y_train.loc[y_train['isfraud'] == 0, 'isfraud']\n",
        "ones = y_train.loc[y_train['isfraud'] == 1, 'isfraud']\n",
        "\n",
        "# create scatter plots for 0 and 1 values\n",
        "plt.scatter(range(len(zeros)), zeros, color='blue', marker='o', label='0')\n",
        "plt.scatter(range(len(ones)), ones, color='red', marker='x', label='1')\n",
        "\n",
        "# add axis labels and legend\n",
        "plt.xlabel('Index')\n",
        "plt.ylabel('Feature Value')\n",
        "plt.legend()\n",
        "\n",
        "# show plot\n",
        "plt.show()"
      ],
      "metadata": {
        "colab": {
          "base_uri": "https://localhost:8080/",
          "height": 279
        },
        "id": "ZYVOjyKGhU-L",
        "outputId": "5635890b-c6a2-4068-e1ac-7b82bf00531d"
      },
      "execution_count": 6,
      "outputs": [
        {
          "output_type": "display_data",
          "data": {
            "text/plain": [
              "<Figure size 432x288 with 1 Axes>"
            ],
            "image/png": "[encoded data removed]"
          },
          "metadata": {
            "needs_background": "light"
          }
        }
      ]
    },
    {
      "cell_type": "code",
      "source": [
        "# Now it can be seen that there are much more of 0s than 1s in our data, so it best to reduce the number of 0s to not\n",
        "# have a bias machine learning training data.\n",
        "\n",
        "# Let us first look at the number of 0s and 1s\n",
        "print('The number of 0s are', len(zeros))\n",
        "print('The number of 1s are', len(ones))"
      ],
      "metadata": {
        "colab": {
          "base_uri": "https://localhost:8080/"
        },
        "id": "rbkByx3DhWgs",
        "outputId": "9c4e3f22-8a3c-4950-8498-3c59518a15d2"
      },
      "execution_count": 7,
      "outputs": [
        {
          "output_type": "stream",
          "name": "stdout",
          "text": [
            "The number of 0s are 199647\n",
            "The number of 1s are 353\n"
          ]
        }
      ]
    },
    {
      "cell_type": "code",
      "source": [
        "# It is best to make the data balance. I will be using the Synthetic minority over-sampling technique. It will allow\n",
        "# to handle class imbalance. It involves generating synthetic samples for minority class using interpolation. \n",
        "\n",
        "# perform SMOTE over-sampling\n",
        "smote = SMOTE()\n",
        "x_resampled, y_resampled = smote.fit_resample(x_normalized_data, y_train)\n",
        "\n",
        "# print the number of samples in each class\n",
        "print('The shape of features is', x_resampled.shape)\n",
        "print('The shape of label is', y_resampled.shape)"
      ],
      "metadata": {
        "colab": {
          "base_uri": "https://localhost:8080/"
        },
        "id": "hW6rhzsphYU0",
        "outputId": "95cdb3c0-0ecf-4695-c462-c40fabf1d29a"
      },
      "execution_count": 8,
      "outputs": [
        {
          "output_type": "stream",
          "name": "stdout",
          "text": [
            "The shape of features is (399294, 27)\n",
            "The shape of label is (399294, 1)\n"
          ]
        }
      ]
    },
    {
      "cell_type": "code",
      "source": [
        "# Let us now look at the samples and see the visualization\n",
        "# Creating some plot to see the data seperation\n",
        "# separate 0 and 1 values into two Series\n",
        "zeros = y_resampled.loc[y_resampled['isfraud'] == 0, 'isfraud']\n",
        "ones = y_resampled.loc[y_resampled['isfraud'] == 1, 'isfraud']\n",
        "\n",
        "# create scatter plots for 0 and 1 values\n",
        "plt.scatter(range(len(zeros)), zeros, color='blue', marker='o', label='0')\n",
        "plt.scatter(range(len(ones)), ones, color='red', marker='x', label='1')\n",
        "\n",
        "# add axis labels and legend\n",
        "plt.xlabel('Index')\n",
        "plt.ylabel('Feature Value')\n",
        "plt.legend()\n",
        "\n",
        "# show plot\n",
        "plt.show()\n",
        "print('The number of 0s in the new balanced data is', len(zeros))\n",
        "print('The number of 1s in the new balanced data is', len(ones))"
      ],
      "metadata": {
        "colab": {
          "base_uri": "https://localhost:8080/",
          "height": 314
        },
        "id": "VYhxzZ3khbFQ",
        "outputId": "105b2e4c-3c45-411f-c0eb-baee89e50e2e"
      },
      "execution_count": 9,
      "outputs": [
        {
          "output_type": "display_data",
          "data": {
            "text/plain": [
              "<Figure size 432x288 with 1 Axes>"
            ],
            "image/png": "[encoded data removed]"
          },
          "metadata": {
            "needs_background": "light"
          }
        },
        {
          "output_type": "stream",
          "name": "stdout",
          "text": [
            "The number of 0s in the new balanced data is 199647\n",
            "The number of 1s in the new balanced data is 199647\n"
          ]
        }
      ]
    },
    {
      "cell_type": "code",
      "source": [
        "xtrain = x_resampled.to_numpy()\n",
        "ytrain = y_resampled.to_numpy()\n",
        "ytrain.shape"
      ],
      "metadata": {
        "colab": {
          "base_uri": "https://localhost:8080/"
        },
        "id": "tCYi6OyshcuY",
        "outputId": "87692070-d22c-47bb-b9e8-ba9b97418e88"
      },
      "execution_count": 10,
      "outputs": [
        {
          "output_type": "execute_result",
          "data": {
            "text/plain": [
              "(399294, 1)"
            ]
          },
          "metadata": {},
          "execution_count": 10
        }
      ]
    },
    {
      "cell_type": "code",
      "source": [
        "logistic_regression_pipeline = Pipeline([(\"logreg\", LogisticRegression(solver = 'liblinear', \n",
        "                                                                       random_state = 42, max_iter=400, \n",
        "                                                                        class_weight='balanced'))])"
      ],
      "metadata": {
        "id": "0M4IiHvjheZK"
      },
      "execution_count": 11,
      "outputs": []
    },
    {
      "cell_type": "code",
      "source": [
        "logistic_regression_pipeline.fit(xtrain, np.ravel(ytrain))"
      ],
      "metadata": {
        "colab": {
          "base_uri": "https://localhost:8080/"
        },
        "id": "zsLCxkffhgUf",
        "outputId": "51e50e40-53fb-4e9f-87e9-d4ff1e12e707"
      },
      "execution_count": 12,
      "outputs": [
        {
          "output_type": "execute_result",
          "data": {
            "text/plain": [
              "Pipeline(steps=[('logreg',\n",
              "                 LogisticRegression(class_weight='balanced', max_iter=400,\n",
              "                                    random_state=42, solver='liblinear'))])"
            ]
          },
          "metadata": {},
          "execution_count": 12
        }
      ]
    },
    {
      "cell_type": "code",
      "source": [
        "def rand_split_train_test(features, label, train_perc=.8, random_state=42):\n",
        "    \"\"\"\n",
        "    Shuffle the features and labels so they are in a random order.\n",
        "        sklearn.utils.shuffle does this well.\n",
        "    Then split the features and labels into training and testing sets\n",
        "        where train_perc of the samples are in training and the\n",
        "        remaining are for testing.\n",
        "    \"\"\"\n",
        "    #features_shuffles, label_shuffle = shuffle(features, label, random_state=42)\n",
        "    test_size = 1 - train_perc\n",
        "    features_tr, features_te, label_tr, label_te = train_test_split(features, label, \n",
        "                                                                     train_size=train_perc,\n",
        "                                                                     shuffle=True,\n",
        "                                                                     random_state=random_state,\n",
        "                                                                     stratify=label)\n",
        "    \n",
        "    return features_tr, features_te, label_tr, label_te"
      ],
      "metadata": {
        "id": "VYdP06RChiOp"
      },
      "execution_count": 13,
      "outputs": []
    },
    {
      "cell_type": "code",
      "source": [
        "features_tr, features_te, label_tr, label_te = rand_split_train_test(xtrain, ytrain)"
      ],
      "metadata": {
        "id": "_2v5NvdFhjkF"
      },
      "execution_count": 14,
      "outputs": []
    },
    {
      "cell_type": "code",
      "source": [
        "predicted_train_logistic_regression = logistic_regression_pipeline.predict(features_te)"
      ],
      "metadata": {
        "id": "sWhYT9CwhlFY"
      },
      "execution_count": 15,
      "outputs": []
    },
    {
      "cell_type": "code",
      "source": [
        "test_acc_log = accuracy_score(label_te, predicted_train_logistic_regression)"
      ],
      "metadata": {
        "id": "VnfvQt6OhmgH"
      },
      "execution_count": 16,
      "outputs": []
    },
    {
      "cell_type": "code",
      "source": [
        "test_acc_log"
      ],
      "metadata": {
        "colab": {
          "base_uri": "https://localhost:8080/"
        },
        "id": "eAs5a7Yahnv_",
        "outputId": "ae748837-e0ac-4251-92a3-8bb184cc65d9"
      },
      "execution_count": 17,
      "outputs": [
        {
          "output_type": "execute_result",
          "data": {
            "text/plain": [
              "0.939430746691043"
            ]
          },
          "metadata": {},
          "execution_count": 17
        }
      ]
    },
    {
      "cell_type": "code",
      "source": [
        "print(classification_report(label_te, predicted_train_logistic_regression))"
      ],
      "metadata": {
        "colab": {
          "base_uri": "https://localhost:8080/"
        },
        "id": "gXHgW3NAhpEC",
        "outputId": "3c1ed8f8-877d-4647-b56b-6b42925f39c1"
      },
      "execution_count": 18,
      "outputs": [
        {
          "output_type": "stream",
          "name": "stdout",
          "text": [
            "              precision    recall  f1-score   support\n",
            "\n",
            "           0       0.91      0.97      0.94     39930\n",
            "           1       0.97      0.90      0.94     39929\n",
            "\n",
            "    accuracy                           0.94     79859\n",
            "   macro avg       0.94      0.94      0.94     79859\n",
            "weighted avg       0.94      0.94      0.94     79859\n",
            "\n"
          ]
        }
      ]
    },
    {
      "cell_type": "code",
      "source": [
        "print(matthews_corrcoef(label_te, predicted_train_logistic_regression))"
      ],
      "metadata": {
        "colab": {
          "base_uri": "https://localhost:8080/"
        },
        "id": "eBy6K_5Thqz5",
        "outputId": "57e41b77-2ac1-47ed-8565-6b0540d47837"
      },
      "execution_count": 21,
      "outputs": [
        {
          "output_type": "stream",
          "name": "stdout",
          "text": [
            "0.8810348804008525\n"
          ]
        }
      ]
    },
    {
      "cell_type": "code",
      "source": [],
      "metadata": {
        "id": "NJfv4cP2h8LW"
      },
      "execution_count": null,
      "outputs": []
    }
  ]
}